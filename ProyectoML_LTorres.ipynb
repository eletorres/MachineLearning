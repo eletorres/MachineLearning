{
  "nbformat": 4,
  "nbformat_minor": 0,
  "metadata": {
    "colab": {
      "name": "ProyectoML_LTorres.ipynb",
      "provenance": [],
      "authorship_tag": "ABX9TyMpkfpvoCiW3idO1ZrBQadL",
      "include_colab_link": true
    },
    "kernelspec": {
      "name": "python3",
      "display_name": "Python 3"
    },
    "language_info": {
      "name": "python"
    }
  },
  "cells": [
    {
      "cell_type": "markdown",
      "metadata": {
        "id": "view-in-github",
        "colab_type": "text"
      },
      "source": [
        "<a href=\"https://colab.research.google.com/github/eletorres/MachineLearning/blob/main/ProyectoML_LTorres.ipynb\" target=\"_parent\"><img src=\"https://colab.research.google.com/assets/colab-badge.svg\" alt=\"Open In Colab\"/></a>"
      ]
    },
    {
      "cell_type": "code",
      "metadata": {
        "id": "jTeuuslIWvEc"
      },
      "source": [
        "import IPython.core.display\n",
        "import matplotlib ## paquete necesario para poder hacer gráficas\n",
        "\n",
        "def apply_styles(): ### especificamos los parámetros para los gráficos\n",
        "    matplotlib.rcParams['font.size'] = 12\n",
        "    matplotlib.rcParams['figure.figsize'] = (18, 6)\n",
        "    matplotlib.rcParams['lines.linewidth'] = 1\n",
        "\n",
        "apply_styles() ### finalmente aplicamos el estilo"
      ],
      "execution_count": null,
      "outputs": []
    },
    {
      "cell_type": "code",
      "metadata": {
        "id": "6sD0WQ4fW6aF"
      },
      "source": [
        "### éstos elementos configuran fuente tamaño color de la letra porcentaje etc.\n",
        "%%html\n",
        "<style type=\"text/css\">\n",
        "@import url('https://fonts.googleapis.com/css?family=Playfair+Display');\n",
        "\n",
        "\n",
        "div.text_cell_render {font-family: 'Playfair Display', serif; color: #13213b; line-height: 145%; font-size:16px;}\n",
        "</style>"
      ],
      "execution_count": null,
      "outputs": []
    },
    {
      "cell_type": "code",
      "metadata": {
        "id": "hOW8dXHRXBpZ"
      },
      "source": [
        "import seaborn as sns\n",
        "import matplotlib.pyplot as plt\n",
        "%matplotlib inline\n",
        "sns.set(style=\"ticks\")"
      ],
      "execution_count": null,
      "outputs": []
    },
    {
      "cell_type": "code",
      "metadata": {
        "id": "NwDDEdfgXC8l"
      },
      "source": [
        "import warnings ## desactivan los mensajes para ciertos advertencias en las funciones\n",
        "warnings.filterwarnings('ignore')"
      ],
      "execution_count": null,
      "outputs": []
    },
    {
      "cell_type": "code",
      "metadata": {
        "id": "YrtVhdIdXH_K"
      },
      "source": [
        "import pandas as pd\n",
        "## la siguiente línea indica la dirección donde se encuentran los datos que queremos cargarla siguiente línea indica la dirección donde se encuentran los datos que queremos cargar\n",
        "### si te fijas bien la dirección corresponde precisamente al proyecto github que acabamos de cargar\n",
        "## solamente que apunta a un archivo CSV\n",
        "\n",
        "url=\"https://raw.githubusercontent.com/castudil/Machine-Learning/main/data/GMAA-040218.csv\"\n",
        "## Básicamente tomamos ese archivo y lo cargamos usando un método que lo transfiere hacia un data frame\n",
        "df = pd.read_csv(url, header=None, skiprows=6, parse_dates=[0], names=['period', 'value'])\n",
        "df.value.astype(int, copy=False);"
      ],
      "execution_count": null,
      "outputs": []
    }
  ]
}